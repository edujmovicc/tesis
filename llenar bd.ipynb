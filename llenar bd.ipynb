{
 "cells": [
  {
   "cell_type": "code",
   "execution_count": 1,
   "metadata": {
    "collapsed": false
   },
   "outputs": [
    {
     "name": "stderr",
     "output_type": "stream",
     "text": [
      "C:\\Users\\Enrique\\Anaconda3\\lib\\site-packages\\fuzzywuzzy\\fuzz.py:35: UserWarning: Using slow pure-python SequenceMatcher. Install python-Levenshtein to remove this warning\n",
      "  warnings.warn('Using slow pure-python SequenceMatcher. Install python-Levenshtein to remove this warning')\n"
     ]
    }
   ],
   "source": [
    "import pandas as pd\n",
    "import tesis_orm\n",
    "from utilidades_tesis import normalizar_titulo, comparar_difuso, buscar_parecidos"
   ]
  },
  {
   "cell_type": "code",
   "execution_count": 2,
   "metadata": {
    "collapsed": false
   },
   "outputs": [
    {
     "data": {
      "text/html": [
       "<div>\n",
       "<table border=\"1\" class=\"dataframe\">\n",
       "  <thead>\n",
       "    <tr style=\"text-align: right;\">\n",
       "      <th></th>\n",
       "      <th>TÍTULO</th>\n",
       "      <th>LINEA_INVESTIGACION</th>\n",
       "      <th>NOMBRE_ALUMNO</th>\n",
       "      <th>APELLLIDO_ALUMNO</th>\n",
       "      <th>C.I</th>\n",
       "      <th>NOMBRE_TUTOR</th>\n",
       "      <th>APELLIDO_TUTOR</th>\n",
       "      <th>TUTOR_CEDULA</th>\n",
       "    </tr>\n",
       "  </thead>\n",
       "  <tbody>\n",
       "    <tr>\n",
       "      <th>65</th>\n",
       "      <td>DESARROLLO DE UN SISTEMA QUE GENERE REPORTE 14...</td>\n",
       "      <td>Ingeniería de Software</td>\n",
       "      <td>ELMER</td>\n",
       "      <td>MORALES</td>\n",
       "      <td>1</td>\n",
       "      <td>CARINA</td>\n",
       "      <td>GARCIA</td>\n",
       "      <td>3</td>\n",
       "    </tr>\n",
       "    <tr>\n",
       "      <th>77</th>\n",
       "      <td>DESARROLLO DE UN SISTEMA DE INFORMACION PARA E...</td>\n",
       "      <td>Ingeniería de Software</td>\n",
       "      <td>ALEJANDRO</td>\n",
       "      <td>VALERO</td>\n",
       "      <td>2</td>\n",
       "      <td>CARINA</td>\n",
       "      <td>GARCIA</td>\n",
       "      <td>3</td>\n",
       "    </tr>\n",
       "    <tr>\n",
       "      <th>82</th>\n",
       "      <td>DESARROLLO DE UN SISTEMA DE INFORMACIÓN QUE GE...</td>\n",
       "      <td>Ingeniería de Software</td>\n",
       "      <td>JUAN</td>\n",
       "      <td>VIEIRO</td>\n",
       "      <td>3</td>\n",
       "      <td>CARINA</td>\n",
       "      <td>GARCIA</td>\n",
       "      <td>3</td>\n",
       "    </tr>\n",
       "    <tr>\n",
       "      <th>7</th>\n",
       "      <td>DESARROLLAR UN SISTEMA DE HEPL DESK QUE PERMIT...</td>\n",
       "      <td>Ingeniería de Software</td>\n",
       "      <td>LUIS</td>\n",
       "      <td>DÍAZ</td>\n",
       "      <td>4</td>\n",
       "      <td>MARILENA</td>\n",
       "      <td>TOZZI</td>\n",
       "      <td>21</td>\n",
       "    </tr>\n",
       "    <tr>\n",
       "      <th>35</th>\n",
       "      <td>DESARROLLO DE UN SISTEMA DE INFORMACIÓN PARA E...</td>\n",
       "      <td>Ingeniería de Software</td>\n",
       "      <td>LERVIS</td>\n",
       "      <td>NIÑO</td>\n",
       "      <td>5</td>\n",
       "      <td>DAVID</td>\n",
       "      <td>RAÍCES</td>\n",
       "      <td>5</td>\n",
       "    </tr>\n",
       "  </tbody>\n",
       "</table>\n",
       "</div>"
      ],
      "text/plain": [
       "                                               TÍTULO     LINEA_INVESTIGACION  \\\n",
       "65  DESARROLLO DE UN SISTEMA QUE GENERE REPORTE 14...  Ingeniería de Software   \n",
       "77  DESARROLLO DE UN SISTEMA DE INFORMACION PARA E...  Ingeniería de Software   \n",
       "82  DESARROLLO DE UN SISTEMA DE INFORMACIÓN QUE GE...  Ingeniería de Software   \n",
       "7   DESARROLLAR UN SISTEMA DE HEPL DESK QUE PERMIT...  Ingeniería de Software   \n",
       "35  DESARROLLO DE UN SISTEMA DE INFORMACIÓN PARA E...  Ingeniería de Software   \n",
       "\n",
       "   NOMBRE_ALUMNO APELLLIDO_ALUMNO C.I NOMBRE_TUTOR APELLIDO_TUTOR  \\\n",
       "65         ELMER          MORALES   1       CARINA         GARCIA   \n",
       "77     ALEJANDRO           VALERO   2       CARINA         GARCIA   \n",
       "82          JUAN           VIEIRO   3       CARINA         GARCIA   \n",
       "7           LUIS             DÍAZ   4     MARILENA          TOZZI   \n",
       "35        LERVIS             NIÑO   5        DAVID         RAÍCES   \n",
       "\n",
       "    TUTOR_CEDULA  \n",
       "65             3  \n",
       "77             3  \n",
       "82             3  \n",
       "7             21  \n",
       "35             5  "
      ]
     },
     "execution_count": 2,
     "metadata": {},
     "output_type": "execute_result"
    }
   ],
   "source": [
    "limpios = pd.read_excel(\"Data/tesis_limpias2.xlsx\")\n",
    "limpios[\"C.I\"] = limpios[\"C.I\"].fillna(value=0).astype(int).astype(str).replace(\"0\", \"\")\n",
    "limpios.to_excel(\"Data/tesis_limpias2.xlsx\")\n",
    "limpios.head()"
   ]
  },
  {
   "cell_type": "code",
   "execution_count": 3,
   "metadata": {
    "collapsed": false
   },
   "outputs": [
    {
     "data": {
      "text/plain": [
       "<sqlalchemy.orm.session.Session at 0x17fc4d84a58>"
      ]
     },
     "execution_count": 3,
     "metadata": {},
     "output_type": "execute_result"
    }
   ],
   "source": [
    "bd = tesis_orm.conectar_a_bd()\n",
    "bd"
   ]
  },
  {
   "cell_type": "code",
   "execution_count": 4,
   "metadata": {
    "collapsed": false
   },
   "outputs": [],
   "source": [
    "def guardar_tesis_en_bd(tesis_data):\n",
    "    # Alumno\n",
    "    # Revisa si existe el autor de esta tesis\n",
    "    alumnos = bd.query(tesis_orm.Alumno).filter_by(nombre=tesis_data[2]).filter_by(apellido=tesis_data[3]).first()\n",
    "    if alumnos:\n",
    "        alumno = alumnos\n",
    "    else:\n",
    "        # Si no existe, guardalo en BD\n",
    "        alumno = tesis_orm.Alumno(\n",
    "            nombre=tesis_data[2],\n",
    "            apellido=tesis_data[3],\n",
    "            cedula=tesis_data[4]\n",
    "        )\n",
    "        bd.add(alumno)\n",
    "    \n",
    "    # Tutor\n",
    "    # Revisa si existes el tutor de esta tesis\n",
    "    tutor = bd.query(tesis_orm.Tutor).filter_by(cedula=tesis_data[7]).first()\n",
    "    if not tutor:\n",
    "        # Si no existe, guardalo en BD\n",
    "        tutor = tesis_orm.Tutor(\n",
    "            nombre=tesis_data[5],\n",
    "            apellido=tesis_data[6],\n",
    "            cedula=tesis_data[7]\n",
    "        )\n",
    "        bd.add(tutor)\n",
    "    \n",
    "    # Linea de investigacion\n",
    "    # Revisa si existe la linea de investigacion\n",
    "    l_inv = bd.query(tesis_orm.LineaDeInvestigacion).filter_by(nombre=tesis_data[1]).first()\n",
    "    if not l_inv:\n",
    "        # Si no existe, guardala en BD\n",
    "        l_inv = tesis_orm.LineaDeInvestigacion(nombre=tesis_data[1])\n",
    "        \n",
    "    # Tesis   \n",
    "    # Asigna tutor, autor y linea de investigacion a la tesis\n",
    "    t = tesis_orm.Tesis()\n",
    "    t.titulo = tesis_data[0]\n",
    "    t.tutor = tutor\n",
    "    t.titulo_normalizado = tesis_data[8]\n",
    "    t.autor = alumno\n",
    "    t.linea_investigacion = l_inv\n",
    "    \n",
    "    bd.add(t)"
   ]
  },
  {
   "cell_type": "code",
   "execution_count": 5,
   "metadata": {
    "collapsed": false
   },
   "outputs": [
    {
     "data": {
      "text/html": [
       "<div>\n",
       "<table border=\"1\" class=\"dataframe\">\n",
       "  <thead>\n",
       "    <tr style=\"text-align: right;\">\n",
       "      <th></th>\n",
       "      <th>TÍTULO</th>\n",
       "      <th>LINEA_INVESTIGACION</th>\n",
       "      <th>NOMBRE_ALUMNO</th>\n",
       "      <th>APELLLIDO_ALUMNO</th>\n",
       "      <th>C.I</th>\n",
       "      <th>NOMBRE_TUTOR</th>\n",
       "      <th>APELLIDO_TUTOR</th>\n",
       "      <th>TUTOR_CEDULA</th>\n",
       "      <th>titulo_normalizado</th>\n",
       "    </tr>\n",
       "  </thead>\n",
       "  <tbody>\n",
       "    <tr>\n",
       "      <th>65</th>\n",
       "      <td>DESARROLLO DE UN SISTEMA QUE GENERE REPORTE 14...</td>\n",
       "      <td>Ingeniería de Software</td>\n",
       "      <td>ELMER</td>\n",
       "      <td>MORALES</td>\n",
       "      <td>1</td>\n",
       "      <td>CARINA</td>\n",
       "      <td>GARCIA</td>\n",
       "      <td>3</td>\n",
       "      <td>desarroll sistem gener report 00 - 000 bas sis...</td>\n",
       "    </tr>\n",
       "    <tr>\n",
       "      <th>77</th>\n",
       "      <td>DESARROLLO DE UN SISTEMA DE INFORMACION PARA E...</td>\n",
       "      <td>Ingeniería de Software</td>\n",
       "      <td>ALEJANDRO</td>\n",
       "      <td>VALERO</td>\n",
       "      <td>2</td>\n",
       "      <td>CARINA</td>\n",
       "      <td>GARCIA</td>\n",
       "      <td>3</td>\n",
       "      <td>desarroll sistem informacion control gestion t...</td>\n",
       "    </tr>\n",
       "    <tr>\n",
       "      <th>82</th>\n",
       "      <td>DESARROLLO DE UN SISTEMA DE INFORMACIÓN QUE GE...</td>\n",
       "      <td>Ingeniería de Software</td>\n",
       "      <td>JUAN</td>\n",
       "      <td>VIEIRO</td>\n",
       "      <td>3</td>\n",
       "      <td>CARINA</td>\n",
       "      <td>GARCIA</td>\n",
       "      <td>3</td>\n",
       "      <td>desarroll sistem informacion gestion report in...</td>\n",
       "    </tr>\n",
       "    <tr>\n",
       "      <th>7</th>\n",
       "      <td>DESARROLLAR UN SISTEMA DE HEPL DESK QUE PERMIT...</td>\n",
       "      <td>Ingeniería de Software</td>\n",
       "      <td>LUIS</td>\n",
       "      <td>DÍAZ</td>\n",
       "      <td>4</td>\n",
       "      <td>MARILENA</td>\n",
       "      <td>TOZZI</td>\n",
       "      <td>21</td>\n",
       "      <td>desarroll sistem hepl desk permit optimiz rend...</td>\n",
       "    </tr>\n",
       "    <tr>\n",
       "      <th>35</th>\n",
       "      <td>DESARROLLO DE UN SISTEMA DE INFORMACIÓN PARA E...</td>\n",
       "      <td>Ingeniería de Software</td>\n",
       "      <td>LERVIS</td>\n",
       "      <td>NIÑO</td>\n",
       "      <td>5</td>\n",
       "      <td>DAVID</td>\n",
       "      <td>RAÍCES</td>\n",
       "      <td>5</td>\n",
       "      <td>desarroll sistem informacion registr control h...</td>\n",
       "    </tr>\n",
       "  </tbody>\n",
       "</table>\n",
       "</div>"
      ],
      "text/plain": [
       "                                               TÍTULO     LINEA_INVESTIGACION  \\\n",
       "65  DESARROLLO DE UN SISTEMA QUE GENERE REPORTE 14...  Ingeniería de Software   \n",
       "77  DESARROLLO DE UN SISTEMA DE INFORMACION PARA E...  Ingeniería de Software   \n",
       "82  DESARROLLO DE UN SISTEMA DE INFORMACIÓN QUE GE...  Ingeniería de Software   \n",
       "7   DESARROLLAR UN SISTEMA DE HEPL DESK QUE PERMIT...  Ingeniería de Software   \n",
       "35  DESARROLLO DE UN SISTEMA DE INFORMACIÓN PARA E...  Ingeniería de Software   \n",
       "\n",
       "   NOMBRE_ALUMNO APELLLIDO_ALUMNO C.I NOMBRE_TUTOR APELLIDO_TUTOR  \\\n",
       "65         ELMER          MORALES   1       CARINA         GARCIA   \n",
       "77     ALEJANDRO           VALERO   2       CARINA         GARCIA   \n",
       "82          JUAN           VIEIRO   3       CARINA         GARCIA   \n",
       "7           LUIS             DÍAZ   4     MARILENA          TOZZI   \n",
       "35        LERVIS             NIÑO   5        DAVID         RAÍCES   \n",
       "\n",
       "    TUTOR_CEDULA                                 titulo_normalizado  \n",
       "65             3  desarroll sistem gener report 00 - 000 bas sis...  \n",
       "77             3  desarroll sistem informacion control gestion t...  \n",
       "82             3  desarroll sistem informacion gestion report in...  \n",
       "7             21  desarroll sistem hepl desk permit optimiz rend...  \n",
       "35             5  desarroll sistem informacion registr control h...  "
      ]
     },
     "execution_count": 5,
     "metadata": {},
     "output_type": "execute_result"
    }
   ],
   "source": [
    "limpios[\"titulo_normalizado\"] = limpios[\"TÍTULO\"].apply(normalizar_titulo)\n",
    "limpios.head()"
   ]
  },
  {
   "cell_type": "code",
   "execution_count": 6,
   "metadata": {
    "collapsed": false,
    "scrolled": true
   },
   "outputs": [],
   "source": [
    "for fila in limpios.iterrows():\n",
    "    guardar_tesis_en_bd(fila[1])\n",
    "    \n",
    "bd.commit()"
   ]
  },
  {
   "cell_type": "code",
   "execution_count": null,
   "metadata": {
    "collapsed": true
   },
   "outputs": [],
   "source": []
  }
 ],
 "metadata": {
  "anaconda-cloud": {},
  "kernelspec": {
   "display_name": "Python [Root]",
   "language": "python",
   "name": "Python [Root]"
  },
  "language_info": {
   "codemirror_mode": {
    "name": "ipython",
    "version": 3
   },
   "file_extension": ".py",
   "mimetype": "text/x-python",
   "name": "python",
   "nbconvert_exporter": "python",
   "pygments_lexer": "ipython3",
   "version": "3.5.2"
  }
 },
 "nbformat": 4,
 "nbformat_minor": 0
}
