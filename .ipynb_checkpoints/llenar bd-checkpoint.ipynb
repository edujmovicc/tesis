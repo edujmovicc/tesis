{
 "cells": [
  {
   "cell_type": "code",
   "execution_count": 1,
   "metadata": {
    "collapsed": false
   },
   "outputs": [
    {
     "name": "stderr",
     "output_type": "stream",
     "text": [
      "C:\\Users\\Enrique\\Anaconda3\\lib\\site-packages\\fuzzywuzzy\\fuzz.py:35: UserWarning: Using slow pure-python SequenceMatcher. Install python-Levenshtein to remove this warning\n",
      "  warnings.warn('Using slow pure-python SequenceMatcher. Install python-Levenshtein to remove this warning')\n"
     ]
    }
   ],
   "source": [
    "import pandas as pd\n",
    "import tesis_orm\n",
    "from utilidades_tesis import normalizar_titulo, comparar_difuso, buscar_parecidos"
   ]
  },
  {
   "cell_type": "code",
   "execution_count": 2,
   "metadata": {
    "collapsed": false
   },
   "outputs": [
    {
     "data": {
      "text/html": [
       "<div>\n",
       "<table border=\"1\" class=\"dataframe\">\n",
       "  <thead>\n",
       "    <tr style=\"text-align: right;\">\n",
       "      <th></th>\n",
       "      <th>TÍTULO</th>\n",
       "      <th>LINEA_INVESTIGACION</th>\n",
       "      <th>NOMBRE_ALUMNO</th>\n",
       "      <th>APELLLIDO_ALUMNO</th>\n",
       "      <th>C.I</th>\n",
       "      <th>NOMBRE_TUTOR</th>\n",
       "      <th>APELLIDO_TUTOR</th>\n",
       "      <th>Unnamed: 7</th>\n",
       "    </tr>\n",
       "  </thead>\n",
       "  <tbody>\n",
       "    <tr>\n",
       "      <th>0</th>\n",
       "      <td>DISEÑO Y DESARROLLO DE UN SISTEMA DE INFORMACI...</td>\n",
       "      <td>Ingeniería de Software</td>\n",
       "      <td>LEÓNARDO</td>\n",
       "      <td>MOSQUERA</td>\n",
       "      <td></td>\n",
       "      <td>MARILENA</td>\n",
       "      <td>TOZZI</td>\n",
       "      <td>NaN</td>\n",
       "    </tr>\n",
       "    <tr>\n",
       "      <th>1</th>\n",
       "      <td>TRABAJO ESPECIAL</td>\n",
       "      <td>Ingeniería de Software</td>\n",
       "      <td>NAGEL</td>\n",
       "      <td>CAMACHO</td>\n",
       "      <td>14032515</td>\n",
       "      <td>MARILENA</td>\n",
       "      <td>TOZZI</td>\n",
       "      <td>NaN</td>\n",
       "    </tr>\n",
       "    <tr>\n",
       "      <th>2</th>\n",
       "      <td>SISTEMA DE GESTIÓN DEL CAMBIO  Y CONTROL DE AC...</td>\n",
       "      <td>Ingeniería de Software</td>\n",
       "      <td>BELKYS</td>\n",
       "      <td>JIMÉNEZ</td>\n",
       "      <td>12781535</td>\n",
       "      <td>MARILENA</td>\n",
       "      <td>TOZZI</td>\n",
       "      <td>NaN</td>\n",
       "    </tr>\n",
       "    <tr>\n",
       "      <th>3</th>\n",
       "      <td>DESARROLLO DE UN SISTEMA DE INFORMACIÓN PARA L...</td>\n",
       "      <td>Ingeniería de Software</td>\n",
       "      <td>JACKELYNE</td>\n",
       "      <td>VÁZQUEZ</td>\n",
       "      <td></td>\n",
       "      <td>MARILENA</td>\n",
       "      <td>TOZZI</td>\n",
       "      <td>NaN</td>\n",
       "    </tr>\n",
       "    <tr>\n",
       "      <th>4</th>\n",
       "      <td>DESARROLLO DE UN SISTEMA DE CONTROL DE  GESTIÓ...</td>\n",
       "      <td>Ingeniería de Software</td>\n",
       "      <td>LEÓNARDO</td>\n",
       "      <td>CARNICELLA</td>\n",
       "      <td></td>\n",
       "      <td>MARILENA</td>\n",
       "      <td>TOZZI</td>\n",
       "      <td>NaN</td>\n",
       "    </tr>\n",
       "  </tbody>\n",
       "</table>\n",
       "</div>"
      ],
      "text/plain": [
       "                                              TÍTULO     LINEA_INVESTIGACION  \\\n",
       "0  DISEÑO Y DESARROLLO DE UN SISTEMA DE INFORMACI...  Ingeniería de Software   \n",
       "1                                   TRABAJO ESPECIAL  Ingeniería de Software   \n",
       "2  SISTEMA DE GESTIÓN DEL CAMBIO  Y CONTROL DE AC...  Ingeniería de Software   \n",
       "3  DESARROLLO DE UN SISTEMA DE INFORMACIÓN PARA L...  Ingeniería de Software   \n",
       "4  DESARROLLO DE UN SISTEMA DE CONTROL DE  GESTIÓ...  Ingeniería de Software   \n",
       "\n",
       "  NOMBRE_ALUMNO APELLLIDO_ALUMNO       C.I NOMBRE_TUTOR APELLIDO_TUTOR  \\\n",
       "0      LEÓNARDO         MOSQUERA               MARILENA          TOZZI   \n",
       "1         NAGEL          CAMACHO  14032515     MARILENA          TOZZI   \n",
       "2        BELKYS          JIMÉNEZ  12781535     MARILENA          TOZZI   \n",
       "3     JACKELYNE          VÁZQUEZ               MARILENA          TOZZI   \n",
       "4      LEÓNARDO       CARNICELLA               MARILENA          TOZZI   \n",
       "\n",
       "  Unnamed: 7  \n",
       "0        NaN  \n",
       "1        NaN  \n",
       "2        NaN  \n",
       "3        NaN  \n",
       "4        NaN  "
      ]
     },
     "execution_count": 2,
     "metadata": {},
     "output_type": "execute_result"
    }
   ],
   "source": [
    "limpios = pd.read_excel(\"Data/tesis_limpias2.xlsx\")\n",
    "limpios[\"C.I\"] = limpios[\"C.I\"].fillna(value=0).astype(int).astype(str).replace(\"0\", \"\")\n",
    "limpios.to_excel(\"Data/tesis_limpias2.xlsx\")\n",
    "limpios.head()"
   ]
  },
  {
   "cell_type": "code",
   "execution_count": 3,
   "metadata": {
    "collapsed": false
   },
   "outputs": [
    {
     "data": {
      "text/plain": [
       "<sqlalchemy.orm.session.Session at 0x2b9a6a10048>"
      ]
     },
     "execution_count": 3,
     "metadata": {},
     "output_type": "execute_result"
    }
   ],
   "source": [
    "bd = tesis_orm.conectar_a_bd()\n",
    "bd"
   ]
  },
  {
   "cell_type": "code",
   "execution_count": 4,
   "metadata": {
    "collapsed": false
   },
   "outputs": [],
   "source": [
    "def guardar_tesis_en_bd(tesis_data):\n",
    "    # Alumno\n",
    "    # Revisa si existe el autor de esta tesis\n",
    "    alumnos = bd.query(tesis_orm.Alumno).filter_by(nombre=tesis_data[2]).filter_by(apellido=tesis_data[3]).first()\n",
    "    if alumnos:\n",
    "        alumno = alumnos\n",
    "    else:\n",
    "        # Si no existe, guardalo en BD\n",
    "        alumno = tesis_orm.Alumno(\n",
    "            nombre=tesis_data[2],\n",
    "            apellido=tesis_data[3],\n",
    "            cedula=tesis_data[4]\n",
    "        )\n",
    "        bd.add(alumno)\n",
    "    \n",
    "    # Tutor\n",
    "    # Revisa si existes el tutor de esta tesis\n",
    "    tutores = bd.query(tesis_orm.Tutor).filter_by(nombre=tesis_data[5]).filter_by(apellido=tesis_data[6]).first()\n",
    "    if tutores:\n",
    "        tutor = tutores\n",
    "    else:\n",
    "        # Si no existe, guardalo en BD\n",
    "        tutor = tesis_orm.Tutor(nombre=tesis_data[5], apellido=tesis_data[6])\n",
    "        bd.add(tutor)\n",
    "    \n",
    "    # Linea de investigacion\n",
    "    # Revisa si existe la linea de investigacion\n",
    "    l_inv = bd.query(tesis_orm.LineaDeInvestigacion).filter_by(nombre=tesis_data[1]).first()\n",
    "    if not l_inv:\n",
    "        # Si no existe, guardala en BD\n",
    "        l_inv = tesis_orm.LineaDeInvestigacion(nombre=tesis_data[1])\n",
    "        \n",
    "    # Tesis   \n",
    "    # Asigna tutor, autor y linea de investigacion a la tesis\n",
    "    t = tesis_orm.Tesis()\n",
    "    t.titulo = tesis_data[0]\n",
    "    t.tutor = tutor\n",
    "    t.titulo_normalizado = tesis_data[8]\n",
    "    t.autor = alumno\n",
    "    t.linea_investigacion = l_inv\n",
    "    \n",
    "    bd.add(t)"
   ]
  },
  {
   "cell_type": "code",
   "execution_count": 5,
   "metadata": {
    "collapsed": false
   },
   "outputs": [
    {
     "data": {
      "text/html": [
       "<div>\n",
       "<table border=\"1\" class=\"dataframe\">\n",
       "  <thead>\n",
       "    <tr style=\"text-align: right;\">\n",
       "      <th></th>\n",
       "      <th>TÍTULO</th>\n",
       "      <th>LINEA_INVESTIGACION</th>\n",
       "      <th>NOMBRE_ALUMNO</th>\n",
       "      <th>APELLLIDO_ALUMNO</th>\n",
       "      <th>C.I</th>\n",
       "      <th>NOMBRE_TUTOR</th>\n",
       "      <th>APELLIDO_TUTOR</th>\n",
       "      <th>Unnamed: 7</th>\n",
       "      <th>titulo_normalizado</th>\n",
       "    </tr>\n",
       "  </thead>\n",
       "  <tbody>\n",
       "    <tr>\n",
       "      <th>0</th>\n",
       "      <td>DISEÑO Y DESARROLLO DE UN SISTEMA DE INFORMACI...</td>\n",
       "      <td>Ingeniería de Software</td>\n",
       "      <td>LEÓNARDO</td>\n",
       "      <td>MOSQUERA</td>\n",
       "      <td></td>\n",
       "      <td>MARILENA</td>\n",
       "      <td>TOZZI</td>\n",
       "      <td>NaN</td>\n",
       "      <td>disen desarroll sistem informacion control ges...</td>\n",
       "    </tr>\n",
       "    <tr>\n",
       "      <th>1</th>\n",
       "      <td>TRABAJO ESPECIAL</td>\n",
       "      <td>Ingeniería de Software</td>\n",
       "      <td>NAGEL</td>\n",
       "      <td>CAMACHO</td>\n",
       "      <td>14032515</td>\n",
       "      <td>MARILENA</td>\n",
       "      <td>TOZZI</td>\n",
       "      <td>NaN</td>\n",
       "      <td>trabaj especial</td>\n",
       "    </tr>\n",
       "    <tr>\n",
       "      <th>2</th>\n",
       "      <td>SISTEMA DE GESTIÓN DEL CAMBIO  Y CONTROL DE AC...</td>\n",
       "      <td>Ingeniería de Software</td>\n",
       "      <td>BELKYS</td>\n",
       "      <td>JIMÉNEZ</td>\n",
       "      <td>12781535</td>\n",
       "      <td>MARILENA</td>\n",
       "      <td>TOZZI</td>\n",
       "      <td>NaN</td>\n",
       "      <td>sistem gestion cambi control acces aplic inter...</td>\n",
       "    </tr>\n",
       "    <tr>\n",
       "      <th>3</th>\n",
       "      <td>DESARROLLO DE UN SISTEMA DE INFORMACIÓN PARA L...</td>\n",
       "      <td>Ingeniería de Software</td>\n",
       "      <td>JACKELYNE</td>\n",
       "      <td>VÁZQUEZ</td>\n",
       "      <td></td>\n",
       "      <td>MARILENA</td>\n",
       "      <td>TOZZI</td>\n",
       "      <td>NaN</td>\n",
       "      <td>desarroll sistem informacion comparcion contra...</td>\n",
       "    </tr>\n",
       "    <tr>\n",
       "      <th>4</th>\n",
       "      <td>DESARROLLO DE UN SISTEMA DE CONTROL DE  GESTIÓ...</td>\n",
       "      <td>Ingeniería de Software</td>\n",
       "      <td>LEÓNARDO</td>\n",
       "      <td>CARNICELLA</td>\n",
       "      <td></td>\n",
       "      <td>MARILENA</td>\n",
       "      <td>TOZZI</td>\n",
       "      <td>NaN</td>\n",
       "      <td>desarroll sistem control gestion estrateg cump...</td>\n",
       "    </tr>\n",
       "  </tbody>\n",
       "</table>\n",
       "</div>"
      ],
      "text/plain": [
       "                                              TÍTULO     LINEA_INVESTIGACION  \\\n",
       "0  DISEÑO Y DESARROLLO DE UN SISTEMA DE INFORMACI...  Ingeniería de Software   \n",
       "1                                   TRABAJO ESPECIAL  Ingeniería de Software   \n",
       "2  SISTEMA DE GESTIÓN DEL CAMBIO  Y CONTROL DE AC...  Ingeniería de Software   \n",
       "3  DESARROLLO DE UN SISTEMA DE INFORMACIÓN PARA L...  Ingeniería de Software   \n",
       "4  DESARROLLO DE UN SISTEMA DE CONTROL DE  GESTIÓ...  Ingeniería de Software   \n",
       "\n",
       "  NOMBRE_ALUMNO APELLLIDO_ALUMNO       C.I NOMBRE_TUTOR APELLIDO_TUTOR  \\\n",
       "0      LEÓNARDO         MOSQUERA               MARILENA          TOZZI   \n",
       "1         NAGEL          CAMACHO  14032515     MARILENA          TOZZI   \n",
       "2        BELKYS          JIMÉNEZ  12781535     MARILENA          TOZZI   \n",
       "3     JACKELYNE          VÁZQUEZ               MARILENA          TOZZI   \n",
       "4      LEÓNARDO       CARNICELLA               MARILENA          TOZZI   \n",
       "\n",
       "  Unnamed: 7                                 titulo_normalizado  \n",
       "0        NaN  disen desarroll sistem informacion control ges...  \n",
       "1        NaN                                    trabaj especial  \n",
       "2        NaN  sistem gestion cambi control acces aplic inter...  \n",
       "3        NaN  desarroll sistem informacion comparcion contra...  \n",
       "4        NaN  desarroll sistem control gestion estrateg cump...  "
      ]
     },
     "execution_count": 5,
     "metadata": {},
     "output_type": "execute_result"
    }
   ],
   "source": [
    "limpios[\"titulo_normalizado\"] = limpios[\"TÍTULO\"].apply(normalizar_titulo)\n",
    "limpios.head()"
   ]
  },
  {
   "cell_type": "code",
   "execution_count": 6,
   "metadata": {
    "collapsed": false,
    "scrolled": true
   },
   "outputs": [],
   "source": [
    "for fila in limpios.iterrows():\n",
    "    guardar_tesis_en_bd(fila[1])\n",
    "    \n",
    "bd.commit()"
   ]
  },
  {
   "cell_type": "code",
   "execution_count": null,
   "metadata": {
    "collapsed": false
   },
   "outputs": [],
   "source": [
    "parecidos = buscar_parecidos(\"diseño de sistema de red\", margen=80)\n",
    "len(parecidos)"
   ]
  },
  {
   "cell_type": "code",
   "execution_count": null,
   "metadata": {
    "collapsed": true
   },
   "outputs": [],
   "source": []
  }
 ],
 "metadata": {
  "anaconda-cloud": {},
  "kernelspec": {
   "display_name": "Python [Root]",
   "language": "python",
   "name": "Python [Root]"
  },
  "language_info": {
   "codemirror_mode": {
    "name": "ipython",
    "version": 3
   },
   "file_extension": ".py",
   "mimetype": "text/x-python",
   "name": "python",
   "nbconvert_exporter": "python",
   "pygments_lexer": "ipython3",
   "version": "3.5.2"
  }
 },
 "nbformat": 4,
 "nbformat_minor": 0
}
