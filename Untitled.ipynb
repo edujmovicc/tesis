{
 "cells": [
  {
   "cell_type": "code",
   "execution_count": 1,
   "metadata": {
    "collapsed": false
   },
   "outputs": [
    {
     "name": "stderr",
     "output_type": "stream",
     "text": [
      "C:\\Users\\Enrique\\Anaconda3\\lib\\site-packages\\fuzzywuzzy\\fuzz.py:35: UserWarning: Using slow pure-python SequenceMatcher. Install python-Levenshtein to remove this warning\n",
      "  warnings.warn('Using slow pure-python SequenceMatcher. Install python-Levenshtein to remove this warning')\n"
     ]
    }
   ],
   "source": [
    "import pandas as pd\n",
    "import tesis_orm\n",
    "from utilidades_tesis import normalizar_titulo, comparar_difuso, buscar_parecidos"
   ]
  },
  {
   "cell_type": "code",
   "execution_count": 2,
   "metadata": {
    "collapsed": false
   },
   "outputs": [
    {
     "data": {
      "text/html": [
       "<div>\n",
       "<table border=\"1\" class=\"dataframe\">\n",
       "  <thead>\n",
       "    <tr style=\"text-align: right;\">\n",
       "      <th></th>\n",
       "      <th>TÍTULO</th>\n",
       "      <th>ALUMNO</th>\n",
       "      <th>C.I</th>\n",
       "      <th>TUTOR</th>\n",
       "    </tr>\n",
       "  </thead>\n",
       "  <tbody>\n",
       "    <tr>\n",
       "      <th>0</th>\n",
       "      <td>DISEÑO Y DESARROLLO DE UN SISTEMA DE INFORMACI...</td>\n",
       "      <td>TSU LEONARDO MOSQUERA</td>\n",
       "      <td></td>\n",
       "      <td>MARILENA TOZZI</td>\n",
       "    </tr>\n",
       "    <tr>\n",
       "      <th>1</th>\n",
       "      <td>TRABAJO ESPECIAL</td>\n",
       "      <td>NAGEL CAMACHO</td>\n",
       "      <td>14032515</td>\n",
       "      <td>MARILENA TOZZI</td>\n",
       "    </tr>\n",
       "    <tr>\n",
       "      <th>2</th>\n",
       "      <td>SISTEMA DE GESTIÓN DEL CAMBIO  Y CONTROL DE AC...</td>\n",
       "      <td>BELKYS JIMENEZ BASTIDAS</td>\n",
       "      <td>12781535</td>\n",
       "      <td>MARILENA TOZZI</td>\n",
       "    </tr>\n",
       "    <tr>\n",
       "      <th>3</th>\n",
       "      <td>DESARROLLO DE UN SISTEMA DE INFORMACIÓN PARA L...</td>\n",
       "      <td>JACKELYNE VÁZQUEZ</td>\n",
       "      <td></td>\n",
       "      <td>MARILENA TOZZI</td>\n",
       "    </tr>\n",
       "    <tr>\n",
       "      <th>4</th>\n",
       "      <td>DESARROLLO DE UN SISTEMA DE CONTROL DE  GESTIÓ...</td>\n",
       "      <td>LEONARDO CARNICELLA</td>\n",
       "      <td></td>\n",
       "      <td>MARILENA TOZZI</td>\n",
       "    </tr>\n",
       "  </tbody>\n",
       "</table>\n",
       "</div>"
      ],
      "text/plain": [
       "                                              TÍTULO  \\\n",
       "0  DISEÑO Y DESARROLLO DE UN SISTEMA DE INFORMACI...   \n",
       "1                                   TRABAJO ESPECIAL   \n",
       "2  SISTEMA DE GESTIÓN DEL CAMBIO  Y CONTROL DE AC...   \n",
       "3  DESARROLLO DE UN SISTEMA DE INFORMACIÓN PARA L...   \n",
       "4  DESARROLLO DE UN SISTEMA DE CONTROL DE  GESTIÓ...   \n",
       "\n",
       "                     ALUMNO       C.I           TUTOR  \n",
       "0    TSU LEONARDO MOSQUERA             MARILENA TOZZI  \n",
       "1            NAGEL CAMACHO   14032515  MARILENA TOZZI  \n",
       "2  BELKYS JIMENEZ BASTIDAS   12781535  MARILENA TOZZI  \n",
       "3         JACKELYNE VÁZQUEZ            MARILENA TOZZI  \n",
       "4      LEONARDO CARNICELLA             MARILENA TOZZI  "
      ]
     },
     "execution_count": 2,
     "metadata": {},
     "output_type": "execute_result"
    }
   ],
   "source": [
    "limpios = pd.read_excel(\"tesis_limpias2.xlsx\")\n",
    "limpios[\"C.I\"] = limpios[\"C.I\"].fillna(value=0).astype(int).astype(str).replace(\"0\", \"\")\n",
    "limpios.to_excel(\"tesis_limpias2.xlsx\")\n",
    "limpios.head()"
   ]
  },
  {
   "cell_type": "code",
   "execution_count": 3,
   "metadata": {
    "collapsed": false
   },
   "outputs": [
    {
     "data": {
      "text/plain": [
       "<sqlalchemy.orm.session.Session at 0x24ef0851da0>"
      ]
     },
     "execution_count": 3,
     "metadata": {},
     "output_type": "execute_result"
    }
   ],
   "source": [
    "bd = tesis_orm.conectar_a_bd()\n",
    "bd"
   ]
  },
  {
   "cell_type": "code",
   "execution_count": 7,
   "metadata": {
    "collapsed": true
   },
   "outputs": [],
   "source": [
    "def guardar_tesis_en_bd(tesis_data):\n",
    "    resultados = bd.query(tesis_orm.Alumno).filter_by(nombre=tesis_data[1]).first()\n",
    "    if resultados:\n",
    "        alumno = resultados\n",
    "    else:\n",
    "        alumno = tesis_orm.Alumno(\n",
    "            nombre=tesis_data[1],\n",
    "            cedula=tesis_data[2]\n",
    "        )\n",
    "        bd.add(alumno)\n",
    "            \n",
    "    t = tesis_orm.Tesis()\n",
    "    t.titulo = tesis_data[0]\n",
    "    t.tutor = tesis_data[3]\n",
    "    t.titulo_normalizado = tesis_data[4]\n",
    "    t.autor = alumno\n",
    "    \n",
    "    bd.add(t)"
   ]
  },
  {
   "cell_type": "code",
   "execution_count": 5,
   "metadata": {
    "collapsed": false
   },
   "outputs": [
    {
     "data": {
      "text/html": [
       "<div>\n",
       "<table border=\"1\" class=\"dataframe\">\n",
       "  <thead>\n",
       "    <tr style=\"text-align: right;\">\n",
       "      <th></th>\n",
       "      <th>TÍTULO</th>\n",
       "      <th>ALUMNO</th>\n",
       "      <th>C.I</th>\n",
       "      <th>TUTOR</th>\n",
       "      <th>titulo_normalizado</th>\n",
       "    </tr>\n",
       "  </thead>\n",
       "  <tbody>\n",
       "    <tr>\n",
       "      <th>0</th>\n",
       "      <td>DISEÑO Y DESARROLLO DE UN SISTEMA DE INFORMACI...</td>\n",
       "      <td>TSU LEONARDO MOSQUERA</td>\n",
       "      <td></td>\n",
       "      <td>MARILENA TOZZI</td>\n",
       "      <td>diseno desarrollo sistema informacion control ...</td>\n",
       "    </tr>\n",
       "    <tr>\n",
       "      <th>1</th>\n",
       "      <td>TRABAJO ESPECIAL</td>\n",
       "      <td>NAGEL CAMACHO</td>\n",
       "      <td>14032515</td>\n",
       "      <td>MARILENA TOZZI</td>\n",
       "      <td>trabajo especial</td>\n",
       "    </tr>\n",
       "    <tr>\n",
       "      <th>2</th>\n",
       "      <td>SISTEMA DE GESTIÓN DEL CAMBIO  Y CONTROL DE AC...</td>\n",
       "      <td>BELKYS JIMENEZ BASTIDAS</td>\n",
       "      <td>12781535</td>\n",
       "      <td>MARILENA TOZZI</td>\n",
       "      <td>sistema gestion cambio control acceso aplicaci...</td>\n",
       "    </tr>\n",
       "    <tr>\n",
       "      <th>3</th>\n",
       "      <td>DESARROLLO DE UN SISTEMA DE INFORMACIÓN PARA L...</td>\n",
       "      <td>JACKELYNE VÁZQUEZ</td>\n",
       "      <td></td>\n",
       "      <td>MARILENA TOZZI</td>\n",
       "      <td>desarrollo sistema informacion comparcion cont...</td>\n",
       "    </tr>\n",
       "    <tr>\n",
       "      <th>4</th>\n",
       "      <td>DESARROLLO DE UN SISTEMA DE CONTROL DE  GESTIÓ...</td>\n",
       "      <td>LEONARDO CARNICELLA</td>\n",
       "      <td></td>\n",
       "      <td>MARILENA TOZZI</td>\n",
       "      <td>desarrollo sistema control gestion estrategico...</td>\n",
       "    </tr>\n",
       "  </tbody>\n",
       "</table>\n",
       "</div>"
      ],
      "text/plain": [
       "                                              TÍTULO  \\\n",
       "0  DISEÑO Y DESARROLLO DE UN SISTEMA DE INFORMACI...   \n",
       "1                                   TRABAJO ESPECIAL   \n",
       "2  SISTEMA DE GESTIÓN DEL CAMBIO  Y CONTROL DE AC...   \n",
       "3  DESARROLLO DE UN SISTEMA DE INFORMACIÓN PARA L...   \n",
       "4  DESARROLLO DE UN SISTEMA DE CONTROL DE  GESTIÓ...   \n",
       "\n",
       "                     ALUMNO       C.I           TUTOR  \\\n",
       "0    TSU LEONARDO MOSQUERA             MARILENA TOZZI   \n",
       "1            NAGEL CAMACHO   14032515  MARILENA TOZZI   \n",
       "2  BELKYS JIMENEZ BASTIDAS   12781535  MARILENA TOZZI   \n",
       "3         JACKELYNE VÁZQUEZ            MARILENA TOZZI   \n",
       "4      LEONARDO CARNICELLA             MARILENA TOZZI   \n",
       "\n",
       "                                  titulo_normalizado  \n",
       "0  diseno desarrollo sistema informacion control ...  \n",
       "1                                   trabajo especial  \n",
       "2  sistema gestion cambio control acceso aplicaci...  \n",
       "3  desarrollo sistema informacion comparcion cont...  \n",
       "4  desarrollo sistema control gestion estrategico...  "
      ]
     },
     "execution_count": 5,
     "metadata": {},
     "output_type": "execute_result"
    }
   ],
   "source": [
    "limpios[\"titulo_normalizado\"] = limpios[\"TÍTULO\"].apply(normalizar_titulo)\n",
    "limpios.head()"
   ]
  },
  {
   "cell_type": "code",
   "execution_count": 8,
   "metadata": {
    "collapsed": false,
    "scrolled": true
   },
   "outputs": [],
   "source": [
    "for fila in limpios.iterrows():\n",
    "    guardar_tesis_en_bd(fila[1])\n",
    "    \n",
    "bd.commit()"
   ]
  },
  {
   "cell_type": "code",
   "execution_count": null,
   "metadata": {
    "collapsed": false
   },
   "outputs": [],
   "source": [
    "comparar_difuso(limpios[\"titulo_normalizado\"][7], \"diseño de sistema de control de informacion\")"
   ]
  },
  {
   "cell_type": "code",
   "execution_count": 9,
   "metadata": {
    "collapsed": false
   },
   "outputs": [
    {
     "data": {
      "text/plain": [
       "26"
      ]
     },
     "execution_count": 9,
     "metadata": {},
     "output_type": "execute_result"
    }
   ],
   "source": [
    "parecidos = buscar_parecidos(\"diseño de sistema de red\", margen=80)\n",
    "len(parecidos)"
   ]
  },
  {
   "cell_type": "code",
   "execution_count": 10,
   "metadata": {
    "collapsed": false
   },
   "outputs": [
    {
     "data": {
      "text/plain": [
       "'DISEÑO Y DESARROLLO DE UN SISTEMA DE INFORMACIÓN PARA EL CONTROL DE LAS GESTIONES DEL PERSONAL ADMINISTRATIVO DEL CONSULADO DE PANAMA EN VENEZUELA '"
      ]
     },
     "execution_count": 10,
     "metadata": {},
     "output_type": "execute_result"
    }
   ],
   "source": [
    "parecidos[0].titulo"
   ]
  },
  {
   "cell_type": "code",
   "execution_count": 13,
   "metadata": {
    "collapsed": false
   },
   "outputs": [
    {
     "data": {
      "text/plain": [
       "'TSU LEONARDO MOSQUERA '"
      ]
     },
     "execution_count": 13,
     "metadata": {},
     "output_type": "execute_result"
    }
   ],
   "source": [
    "parecidos[0].autor.nombre"
   ]
  },
  {
   "cell_type": "code",
   "execution_count": null,
   "metadata": {
    "collapsed": true
   },
   "outputs": [],
   "source": []
  }
 ],
 "metadata": {
  "anaconda-cloud": {},
  "kernelspec": {
   "display_name": "Python [Root]",
   "language": "python",
   "name": "Python [Root]"
  },
  "language_info": {
   "codemirror_mode": {
    "name": "ipython",
    "version": 3
   },
   "file_extension": ".py",
   "mimetype": "text/x-python",
   "name": "python",
   "nbconvert_exporter": "python",
   "pygments_lexer": "ipython3",
   "version": "3.5.2"
  }
 },
 "nbformat": 4,
 "nbformat_minor": 0
}
