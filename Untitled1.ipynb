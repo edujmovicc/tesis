{
 "cells": [
  {
   "cell_type": "code",
   "execution_count": 1,
   "metadata": {
    "collapsed": true
   },
   "outputs": [],
   "source": [
    "from tesis_orm import *"
   ]
  },
  {
   "cell_type": "code",
   "execution_count": 2,
   "metadata": {
    "collapsed": true
   },
   "outputs": [],
   "source": [
    "bd = conectar_a_bd()"
   ]
  },
  {
   "cell_type": "code",
   "execution_count": 3,
   "metadata": {
    "collapsed": false
   },
   "outputs": [
    {
     "name": "stderr",
     "output_type": "stream",
     "text": [
      "C:\\Users\\Enrique\\Anaconda3\\lib\\site-packages\\sqlalchemy\\orm\\strategies.py:624: SAWarning: Multiple rows returned with uselist=False for lazily-loaded attribute 'Tesis.autor' \n",
      "  % self.parent_property)\n"
     ]
    },
    {
     "data": {
      "text/plain": [
       "'DÍAZ'"
      ]
     },
     "execution_count": 3,
     "metadata": {},
     "output_type": "execute_result"
    }
   ],
   "source": [
    "tesis_mia = bd.query(Tesis).get(\"57f2127e-7395-4598-ba95-f58a6b72a0fc\")\n",
    "tesis_mia.autor.apellido"
   ]
  },
  {
   "cell_type": "code",
   "execution_count": 4,
   "metadata": {
    "collapsed": false
   },
   "outputs": [
    {
     "data": {
      "text/plain": [
       "'ALVAREZ'"
      ]
     },
     "execution_count": 4,
     "metadata": {},
     "output_type": "execute_result"
    }
   ],
   "source": [
    "yo = bd.query(Alumno).get(\"157a5f4c-bc77-4636-9aff-ee6f6b649217\")\n",
    "yo.apellido"
   ]
  },
  {
   "cell_type": "code",
   "execution_count": 8,
   "metadata": {
    "collapsed": false
   },
   "outputs": [
    {
     "name": "stdout",
     "output_type": "stream",
     "text": [
      "DESARROLLO DE SOFTWARE ADMINISTRATIVO CONTABLE\n",
      "DÍAZ\n",
      "DESARROLLO DE OTRO SOFTWARE ADMINISTRATIVO CONTABLE\n",
      "DÍAZ\n",
      "DESARROLLO DE SISTEMA DE REDES CHIMBO\n",
      "DÍAZ\n",
      "DESARROLLO DE SISTEMA DE REDES CHIMBO II\n",
      "DÍAZ\n",
      "DESARROLLO DE SISTEMA DE REDES CHIMBO III\n",
      "DÍAZ\n",
      "Sistema de redes tesis prueba\n",
      "DÍAZ\n",
      "Sistema de redes tesis prueba II\n",
      "DÍAZ\n",
      "Sistema de redes tesis prueba III\n",
      "DÍAZ\n"
     ]
    },
    {
     "name": "stderr",
     "output_type": "stream",
     "text": [
      "C:\\Users\\Enrique\\Anaconda3\\lib\\site-packages\\sqlalchemy\\orm\\strategies.py:624: SAWarning: Multiple rows returned with uselist=False for lazily-loaded attribute 'Tesis.autor' \n",
      "  % self.parent_property)\n"
     ]
    }
   ],
   "source": [
    "for t in yo._tesis:\n",
    "    print(t.titulo)\n",
    "    print(t.autor.apellido)"
   ]
  },
  {
   "cell_type": "code",
   "execution_count": 14,
   "metadata": {
    "collapsed": true
   },
   "outputs": [],
   "source": [
    "nueva_tesis = Tesis(titulo=\"texto prueba 2\", autor=yo)"
   ]
  },
  {
   "cell_type": "code",
   "execution_count": 15,
   "metadata": {
    "collapsed": false
   },
   "outputs": [
    {
     "data": {
      "text/plain": [
       "'ALVAREZ'"
      ]
     },
     "execution_count": 15,
     "metadata": {},
     "output_type": "execute_result"
    }
   ],
   "source": [
    "nueva_tesis.autor.apellido"
   ]
  },
  {
   "cell_type": "code",
   "execution_count": 16,
   "metadata": {
    "collapsed": true
   },
   "outputs": [],
   "source": [
    "bd.add(nueva_tesis)\n",
    "bd.commit()"
   ]
  },
  {
   "cell_type": "code",
   "execution_count": 17,
   "metadata": {
    "collapsed": false
   },
   "outputs": [
    {
     "name": "stderr",
     "output_type": "stream",
     "text": [
      "C:\\Users\\Enrique\\Anaconda3\\lib\\site-packages\\sqlalchemy\\orm\\strategies.py:624: SAWarning: Multiple rows returned with uselist=False for lazily-loaded attribute 'Tesis.autor' \n",
      "  % self.parent_property)\n"
     ]
    },
    {
     "data": {
      "text/plain": [
       "'DÍAZ'"
      ]
     },
     "execution_count": 17,
     "metadata": {},
     "output_type": "execute_result"
    }
   ],
   "source": [
    "nueva_tesis.autor.apellido"
   ]
  },
  {
   "cell_type": "code",
   "execution_count": null,
   "metadata": {
    "collapsed": true
   },
   "outputs": [],
   "source": []
  }
 ],
 "metadata": {
  "kernelspec": {
   "display_name": "Python [Root]",
   "language": "python",
   "name": "Python [Root]"
  },
  "language_info": {
   "codemirror_mode": {
    "name": "ipython",
    "version": 3
   },
   "file_extension": ".py",
   "mimetype": "text/x-python",
   "name": "python",
   "nbconvert_exporter": "python",
   "pygments_lexer": "ipython3",
   "version": "3.5.2"
  }
 },
 "nbformat": 4,
 "nbformat_minor": 0
}
